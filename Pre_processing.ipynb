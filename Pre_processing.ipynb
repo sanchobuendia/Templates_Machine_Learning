{
 "cells": [
  {
   "cell_type": "markdown",
   "metadata": {},
   "source": [
    "* Finding out if there are any missing values in the data\n",
    "* Working out the best way to handle missing values\n",
    "* Examining the statistical distribution of the data\n",
    "* Examining the correlation between input variables\n",
    "* Creating new input variables by splitting or combining existing input variables"
   ]
  },
  {
   "cell_type": "markdown",
   "metadata": {},
   "source": [
    "This is a typical classification problem and a number of algorithms could be used:\n",
    "\n",
    "* Logistic regression\n",
    "* Decision trees\n",
    "* Random forests\n",
    "* XGBoost\n",
    "* Neural networks\n",
    "* Clustering-based techniques"
   ]
  },
  {
   "cell_type": "code",
   "execution_count": 1,
   "metadata": {},
   "outputs": [
    {
     "ename": "NameError",
     "evalue": "name 'pd' is not defined",
     "output_type": "error",
     "traceback": [
      "\u001b[0;31m---------------------------------------------------------------------------\u001b[0m",
      "\u001b[0;31mNameError\u001b[0m                                 Traceback (most recent call last)",
      "\u001b[0;32m<ipython-input-1-6bc15d1ff0a3>\u001b[0m in \u001b[0;36m<module>\u001b[0;34m\u001b[0m\n\u001b[1;32m      1\u001b[0m \u001b[0minput_file\u001b[0m \u001b[0;34m=\u001b[0m \u001b[0;34m'/Users/aurelianosancho/Google Drive/Pre_Processing/train.csv'\u001b[0m\u001b[0;34m\u001b[0m\u001b[0;34m\u001b[0m\u001b[0m\n\u001b[0;32m----> 2\u001b[0;31m \u001b[0mdf_titanic_test\u001b[0m \u001b[0;34m=\u001b[0m \u001b[0mpd\u001b[0m\u001b[0;34m.\u001b[0m\u001b[0mread_csv\u001b[0m\u001b[0;34m(\u001b[0m\u001b[0minput_file\u001b[0m\u001b[0;34m)\u001b[0m\u001b[0;34m\u001b[0m\u001b[0;34m\u001b[0m\u001b[0m\n\u001b[0m\u001b[1;32m      3\u001b[0m \u001b[0mdf_titanic_test\u001b[0m\u001b[0;34m.\u001b[0m\u001b[0mset_index\u001b[0m\u001b[0;34m(\u001b[0m\u001b[0;34m\"PassengerId\"\u001b[0m\u001b[0;34m,\u001b[0m \u001b[0minplace\u001b[0m\u001b[0;34m=\u001b[0m\u001b[0;32mTrue\u001b[0m\u001b[0;34m)\u001b[0m\u001b[0;34m\u001b[0m\u001b[0;34m\u001b[0m\u001b[0m\n\u001b[1;32m      4\u001b[0m \u001b[0;34m\u001b[0m\u001b[0m\n\u001b[1;32m      5\u001b[0m \u001b[0mdf_titanic_test_target\u001b[0m \u001b[0;34m=\u001b[0m \u001b[0mdf_titanic_test\u001b[0m\u001b[0;34m.\u001b[0m\u001b[0mloc\u001b[0m\u001b[0;34m[\u001b[0m\u001b[0;34m:\u001b[0m\u001b[0;34m,\u001b[0m\u001b[0;34m[\u001b[0m\u001b[0;34m'Survived'\u001b[0m\u001b[0;34m]\u001b[0m\u001b[0;34m]\u001b[0m\u001b[0;34m\u001b[0m\u001b[0;34m\u001b[0m\u001b[0m\n",
      "\u001b[0;31mNameError\u001b[0m: name 'pd' is not defined"
     ]
    }
   ],
   "source": [
    "input_file = '/Users/aurelianosancho/Google Drive/Pre_Processing/train.csv'\n",
    "df_titanic_test = pd.read_csv(input_file)\n",
    "df_titanic_test.set_index(\"PassengerId\", inplace=True)\n",
    "\n",
    "df_titanic_test_target = df_titanic_test.loc[:,['Survived']]\n",
    "df_titanic_test_features = df_titanic_test.drop(['Survived'], axis=1)\n",
    "\n",
    "median_age = df_titanic_test_features['Age'].median()\n",
    "df_titanic_test_features[\"Age\"].fillna(median_age, inplace=True)\n",
    "\n",
    "embarked_value_counts = df_titanic_test_features['Embarked'].value_counts(dropna=True)\n",
    "most_common_value = embarked_value_counts.index[0]\n",
    "df_titanic_test_features[\"Embarked\"].fillna(most_common_value, inplace=True) \n",
    "\n",
    "df_titanic_test_features['CabinIsKnown'] = ~df_titanic_test_features.Cabin.isnull()\n",
    "df_titanic_test_features.drop(['Cabin'], axis=1, inplace=True)\n",
    "\n",
    "df_titanic_test_features['FamilySize'] = df_titanic_test_features.SibSp + df_titanic_test_features.Parch\n",
    "\n",
    "bins_age = [0,20,30,40,50,150]\n",
    "labels_age = ['<20','20-30','30-40','40-50','>50']\n",
    " \n",
    "df_titanic_test_features['AgeCategory'] = pd.cut(df_titanic_test_features.Age,\n",
    "                                            bins=bins_age,\n",
    "                                            labels=labels_age,\n",
    "                                            include_lowest=True)\n",
    "\n",
    "df_titanic_features['FareCategory'] = pd.qcut(df_titanic_features.Fare,\n",
    "                                            q=4,\n",
    "                                            labels=['Q1', 'Q2', 'Q3', 'Q4']) \n",
    "\n",
    "df_titanic_test_features = pd.get_dummies(df_titanic_test_features, columns=['Sex','Embarked','CabinIsKnown','AgeCategory','FareCategory'])\n",
    " \n",
    "df_titanic_test_features_numeric = df_titanic_test_features.drop(['Name', 'Ticket', 'Sex_female', 'CabinIsKnown_False'], axis=1)"
   ]
  },
  {
   "cell_type": "code",
   "execution_count": null,
   "metadata": {},
   "outputs": [],
   "source": []
  },
  {
   "cell_type": "code",
   "execution_count": null,
   "metadata": {},
   "outputs": [],
   "source": []
  },
  {
   "cell_type": "code",
   "execution_count": null,
   "metadata": {},
   "outputs": [],
   "source": []
  },
  {
   "cell_type": "code",
   "execution_count": null,
   "metadata": {},
   "outputs": [],
   "source": []
  },
  {
   "cell_type": "code",
   "execution_count": null,
   "metadata": {},
   "outputs": [],
   "source": []
  },
  {
   "cell_type": "code",
   "execution_count": null,
   "metadata": {},
   "outputs": [],
   "source": []
  },
  {
   "cell_type": "code",
   "execution_count": null,
   "metadata": {},
   "outputs": [],
   "source": []
  }
 ],
 "metadata": {
  "kernelspec": {
   "display_name": "Python 3",
   "language": "python",
   "name": "python3"
  },
  "language_info": {
   "codemirror_mode": {
    "name": "ipython",
    "version": 3
   },
   "file_extension": ".py",
   "mimetype": "text/x-python",
   "name": "python",
   "nbconvert_exporter": "python",
   "pygments_lexer": "ipython3",
   "version": "3.7.6"
  }
 },
 "nbformat": 4,
 "nbformat_minor": 4
}
